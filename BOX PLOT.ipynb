{
 "cells": [
  {
   "cell_type": "code",
   "execution_count": 1,
   "id": "97170ffe",
   "metadata": {},
   "outputs": [
    {
     "name": "stdout",
     "output_type": "stream",
     "text": [
      "63\n"
     ]
    }
   ],
   "source": [
    "pricepoints=[71.48,65.42,66.32,65.39,64.37,62.21,61.01,61.28,60.35,61.53,61.08,61.22,59.92,57.60,56.95,52.67,53.15,54.70,53.74,56.92,56.13,56.40,57.70,57.78,58.30,60.11,59.99,59.27,60.29,55.07,54.34,54.37,53.00,51.21,53.08,52.12,55.36,57.49,57.43,55.75,56.66,57.01,57.43,57.65,57.91,56.50,58.39,57.76,54.50,54.58,53.85,53.76,53.24,54.92,52.10,51.49,50.11,49.78,49.71,52.13,54.58,54.29,55.17]\n",
    "print(len(pricepoints))\n",
    "\n",
    "pricepoints2=[39.71, 39.78, 40.11, 51.21, 41.49, 32.1, 30.12, 30.13, 42.67, 53.0, 53.08, 53.15, 53.24, 53.74, 53.76, 53.85, 54.29, 54.34, 54.37, 54.5, 54.58, 54.58, 54.7, 54.92, 55.07, 55.17, 55.36, 55.75, 56.13, 56.4, 56.5, 56.66, 56.92, 56.95, 57.01, 57.43, 57.43, 57.49, 57.6, 57.65, 57.7, 57.76, 57.78, 57.91, 58.3, 58.39, 59.27, 59.92, 69.99, 70.11, 80.29, 83.35, 61.01, 61.08, 61.22, 61.28, 61.53, 62.21, 64.37, 65.39, 65.42, 66.32, 71.48]"
   ]
  },
  {
   "cell_type": "code",
   "execution_count": 2,
   "id": "4cc9c096",
   "metadata": {
    "scrolled": true
   },
   "outputs": [
    {
     "name": "stdout",
     "output_type": "stream",
     "text": [
      "[30.12, 30.13, 32.1, 39.71, 39.78, 40.11, 41.49, 42.67, 51.21, 53.0, 53.08, 53.15, 53.24, 53.74, 53.76, 53.85, 54.29, 54.34, 54.37, 54.5, 54.58, 54.58, 54.7, 54.92, 55.07, 55.17, 55.36, 55.75, 56.13, 56.4, 56.5, 56.66, 56.92, 56.95, 57.01, 57.43, 57.43, 57.49, 57.6, 57.65, 57.7, 57.76, 57.78, 57.91, 58.3, 58.39, 59.27, 59.92, 61.01, 61.08, 61.22, 61.28, 61.53, 62.21, 64.37, 65.39, 65.42, 66.32, 69.99, 70.11, 71.48, 80.29, 83.35]\n"
     ]
    }
   ],
   "source": [
    "#pricepoints.sort()\n",
    "\n",
    "#print(pricepoints)\n",
    "\n",
    "pricepoints2.sort()\n",
    "print(pricepoints2)"
   ]
  },
  {
   "cell_type": "code",
   "execution_count": 3,
   "id": "3939aacd",
   "metadata": {
    "scrolled": true
   },
   "outputs": [
    {
     "name": "stdout",
     "output_type": "stream",
     "text": [
      "57.76\n"
     ]
    }
   ],
   "source": [
    "print(pricepoints[47])"
   ]
  },
  {
   "cell_type": "code",
   "execution_count": 4,
   "id": "f95d95ce",
   "metadata": {},
   "outputs": [],
   "source": [
    "def findmedian(list1):\n",
    "    list1.sort()\n",
    "    noofitems=len(list1)\n",
    "    if noofitems%2==0:\n",
    "        sum=list1[int(noofitems/2)]+list1[int(noofitems/2)-1]\n",
    "        median=sum/2\n",
    "    else:\n",
    "        median=list1[int(noofitems/2)]\n",
    "    return median\n",
    "\n",
    "#x=findmedian(pricepoints)\n",
    "#print(x)"
   ]
  },
  {
   "cell_type": "code",
   "execution_count": 5,
   "id": "9cacc1b4",
   "metadata": {},
   "outputs": [],
   "source": [
    "def findmean(list1):\n",
    "    noofitems=len(list1)\n",
    "    sum=0\n",
    "    for element in list1:\n",
    "        sum+=element\n",
    "    mean=sum/noofitems\n",
    "    return mean\n",
    "\n",
    "#y=findmean(pricepoints)\n",
    "#print(y)"
   ]
  },
  {
   "cell_type": "code",
   "execution_count": 6,
   "id": "b6bc8888",
   "metadata": {},
   "outputs": [],
   "source": [
    "def findlowerquartile(list1):\n",
    "    list1.sort()\n",
    "    noofitems=len(list1)\n",
    "    lowerquartile=list1[(int(noofitems/4))]\n",
    "    return lowerquartile\n",
    "\n",
    "#z=findlowerquartile(pricepoints)\n",
    "#print(z)"
   ]
  },
  {
   "cell_type": "code",
   "execution_count": 7,
   "id": "bb6d7a87",
   "metadata": {},
   "outputs": [
    {
     "name": "stdout",
     "output_type": "stream",
     "text": [
      "59.92\n"
     ]
    }
   ],
   "source": [
    "def findupperquartile(list1):\n",
    "    list1.sort()\n",
    "    noofitems=len(list1)\n",
    "    upperquartile=list1[int(3*(noofitems+1)/4)-1]\n",
    "    return upperquartile\n",
    "\n",
    "w=findupperquartile(pricepoints)\n",
    "print(w)"
   ]
  },
  {
   "cell_type": "code",
   "execution_count": 8,
   "id": "234939ff",
   "metadata": {},
   "outputs": [
    {
     "name": "stdout",
     "output_type": "stream",
     "text": [
      "[49.71, 49.78, 50.11, 51.21, 51.49, 52.1, 52.12, 52.13, 52.67, 53.0, 53.08, 53.15, 53.24, 53.74, 53.76, 53.85, 54.29, 54.34, 54.37, 54.5, 54.58, 54.58, 54.7, 54.92, 55.07, 55.17, 55.36, 55.75, 56.13, 56.4, 56.5, 56.66, 56.92, 56.95, 57.01, 57.43, 57.43, 57.49, 57.6, 57.65, 57.7, 57.76, 57.78, 57.91, 58.3, 58.39, 59.27, 59.92, 59.99, 60.11, 60.29, 60.35, 61.01, 61.08, 61.22, 61.28, 61.53, 62.21, 64.37, 65.39, 65.42, 66.32, 71.48]\n"
     ]
    }
   ],
   "source": [
    "pricepoints.sort()\n",
    "print(pricepoints)"
   ]
  },
  {
   "cell_type": "code",
   "execution_count": 9,
   "id": "fce3cb3a",
   "metadata": {},
   "outputs": [],
   "source": [
    "# print(pricepoints[])"
   ]
  },
  {
   "cell_type": "code",
   "execution_count": 10,
   "id": "3641a6e4",
   "metadata": {},
   "outputs": [
    {
     "data": {
      "text/plain": [
       "6.07"
      ]
     },
     "execution_count": 10,
     "metadata": {},
     "output_type": "execute_result"
    }
   ],
   "source": [
    "def findinterquartilerange(list1):\n",
    "    upperquartile=findupperquartile(list1)\n",
    "    lowerquartile=findlowerquartile(list1)\n",
    "    Range=upperquartile-lowerquartile\n",
    "    return Range\n",
    "\n",
    "findinterquartilerange(pricepoints)\n",
    "    "
   ]
  },
  {
   "cell_type": "code",
   "execution_count": 11,
   "id": "361d41d3",
   "metadata": {},
   "outputs": [],
   "source": [
    "def findstep(list1):\n",
    "    IQR=findinterquartilerange(list1)\n",
    "    step=(IQR*1.5)\n",
    "    return step\n",
    "#t=findstep(pricepoints)\n",
    "#print(t)"
   ]
  },
  {
   "cell_type": "code",
   "execution_count": 12,
   "id": "43c0dba7",
   "metadata": {},
   "outputs": [],
   "source": [
    "def findupperinnerfence(list1):\n",
    "    upperquartile=findupperquartile(list1)\n",
    "    step=findstep(list1)\n",
    "    upperinnerfence=upperquartile+step\n",
    "    return upperinnerfence\n",
    "\n",
    "#v=findupperinnerfence(pricepoints)\n",
    "#print(v)"
   ]
  },
  {
   "cell_type": "code",
   "execution_count": 13,
   "id": "1420c1ed",
   "metadata": {},
   "outputs": [],
   "source": [
    "def findlowerinnerfence(list1):\n",
    "    lowerquartile=findlowerquartile(list1)\n",
    "    step=findstep(list1)\n",
    "    lowerinnerfence=lowerquartile-step\n",
    "    return lowerinnerfence\n",
    "#u=findlowerinnerfence(pricepoints)\n",
    "#print(u)"
   ]
  },
  {
   "cell_type": "code",
   "execution_count": 14,
   "id": "6fc14740",
   "metadata": {},
   "outputs": [],
   "source": [
    "def findlowerouterfence(list1):\n",
    "    lowerquartile=findlowerquartile(list1)\n",
    "    step=findstep(list1)\n",
    "    lowerouterfence=lowerquartile-(2*step)\n",
    "    return lowerouterfence\n",
    "\n",
    "#k=findlowerouterfence(pricepoints)\n",
    "#print(k)"
   ]
  },
  {
   "cell_type": "code",
   "execution_count": 15,
   "id": "e5bb5195",
   "metadata": {},
   "outputs": [
    {
     "name": "stdout",
     "output_type": "stream",
     "text": [
      "78.13\n"
     ]
    }
   ],
   "source": [
    "def findupperouterfence(list1):\n",
    "    upperquartile=findupperquartile(list1)\n",
    "    step=findstep(list1)\n",
    "    upperouterfence=upperquartile+(2*step)\n",
    "    return upperouterfence\n",
    "l=findupperouterfence(pricepoints)\n",
    "print(l)\n"
   ]
  },
  {
   "cell_type": "code",
   "execution_count": 16,
   "id": "5bb467ee",
   "metadata": {},
   "outputs": [],
   "source": [
    "def findupperadjacent(list1):\n",
    "    upperinnerfence=findupperinnerfence(list1)\n",
    "    greatervalue=[]\n",
    "    for item in list1:\n",
    "        if item<upperinnerfence:\n",
    "            greatervalue.append(item)\n",
    "        else:\n",
    "            continue\n",
    "    print('GREATER VAL',greatervalue)\n",
    "    upperadjacent=max(greatervalue)\n",
    "    return upperadjacent\n",
    "\n",
    "#f=findupperadjacent(pricepoints)\n",
    "#print(f)"
   ]
  },
  {
   "cell_type": "code",
   "execution_count": 17,
   "id": "0bdd637e",
   "metadata": {},
   "outputs": [],
   "source": [
    "#print(pricepoints)\n",
    "#i=pricepoints.index(71.48)\n",
    "#print(i)"
   ]
  },
  {
   "cell_type": "code",
   "execution_count": 18,
   "id": "387a8acc",
   "metadata": {},
   "outputs": [],
   "source": [
    "def findloweradjacent(list1):\n",
    "    lowerinnerfence=findlowerinnerfence(list1)\n",
    "    greatervalue=[]\n",
    "    for item in list1:\n",
    "        if item>lowerinnerfence:\n",
    "            greatervalue.append(item)\n",
    "        else:\n",
    "            continue\n",
    "    loweradjacent=min(greatervalue)\n",
    "    return loweradjacent\n",
    "\n",
    "#g=findloweradjacent(pricepoints)\n",
    "#print(g)"
   ]
  },
  {
   "cell_type": "code",
   "execution_count": 19,
   "id": "c70b6299",
   "metadata": {},
   "outputs": [
    {
     "name": "stdout",
     "output_type": "stream",
     "text": [
      "\n",
      "NUMBER OF OUTLIERS 8\n",
      "NUMBER OF OUTLIERS BETWEEN UPPER INNERFENCE AND UPPER OUTER FENCE 3\n",
      "OUTLIERS BETWEEN UPPER INNERFENCE AND UPPER OUTER FENCE\n",
      "69.99\n",
      "70.11\n",
      "71.48\n",
      "NUMBER OF OUTLIERS BETWEEN LOWER OUTER AND LOWER INNER FENCE 5\n",
      "OUTLIERS BETWEEN LOWER INNERFENCE AND LOWER OUTER FENCE\n",
      "39.71\n",
      "39.78\n",
      "40.11\n",
      "41.49\n",
      "42.67\n"
     ]
    }
   ],
   "source": [
    "def noofoutliers(list1):\n",
    "    lowerinnerfence=findlowerinnerfence(list1)\n",
    "    lowerouterfence=findlowerouterfence(list1)\n",
    "    \n",
    "    upperinnerfence=findupperinnerfence(list1)\n",
    "    upperouterfence=findupperouterfence(list1)\n",
    "\n",
    "    \n",
    "    valuesbetweenupperinnerouterfence=[]\n",
    "    valuesbetweenlowerinnerouterfence=[]\n",
    "    \n",
    "    for item in list1:\n",
    "        if (item<lowerinnerfence) and (item>lowerouterfence):\n",
    "            valuesbetweenlowerinnerouterfence.append(item)\n",
    "        elif (item>upperinnerfence) and (item<upperouterfence):\n",
    "            valuesbetweenupperinnerouterfence.append(item)\n",
    "        \n",
    "    print()\n",
    "    \n",
    "    print('NUMBER OF OUTLIERS', len(valuesbetweenlowerinnerouterfence)+len(valuesbetweenupperinnerouterfence))\n",
    "    print('NUMBER OF OUTLIERS BETWEEN UPPER INNERFENCE AND UPPER OUTER FENCE', len(valuesbetweenupperinnerouterfence))\n",
    "    print('OUTLIERS BETWEEN UPPER INNERFENCE AND UPPER OUTER FENCE')\n",
    "    for x in valuesbetweenupperinnerouterfence:\n",
    "        print(x)\n",
    "    print('NUMBER OF OUTLIERS BETWEEN LOWER OUTER AND LOWER INNER FENCE', len(valuesbetweenlowerinnerouterfence))\n",
    "    print('OUTLIERS BETWEEN LOWER INNERFENCE AND LOWER OUTER FENCE')\n",
    "    for y in valuesbetweenlowerinnerouterfence:\n",
    "        print(y)   \n",
    "\n",
    "noofoutliers(pricepoints2)\n",
    "    "
   ]
  },
  {
   "cell_type": "code",
   "execution_count": 20,
   "id": "8ea75e98",
   "metadata": {},
   "outputs": [],
   "source": [
    "def foroutvalues(list1):\n",
    "    upperouterfence=findupperouterfence(list1)\n",
    "    lowerouterfence=findlowerouterfence(list1)\n",
    "    \n",
    "    noofgreatupperouterfence=[]          \n",
    "    nooflowlowerouterfence=[]\n",
    "    for item in list1:\n",
    "        if item>upperouterfence:\n",
    "            noofgreatupperouterfence.append(item)\n",
    "        elif item<lowerouterfence:\n",
    "            nooflowlowerouterfence.append(item)\n",
    "    print('VALUES ABOVE UPPER OUTER FENCE')\n",
    "    for g in noofgreatupperouterfence:\n",
    "        print(g)\n",
    "        \n",
    "    print('VALUES BELOW LOWER OUTER FENCE')   \n",
    "    for l in nooflowlowerouterfence:\n",
    "        print(l)\n",
    "\n",
    "#foroutvalues(pricepoints)"
   ]
  },
  {
   "cell_type": "code",
   "execution_count": 21,
   "id": "4412de20",
   "metadata": {},
   "outputs": [],
   "source": [
    "def alldata(list1):\n",
    "    print('MEAN             ',findmean(list1))\n",
    "    print('MEDIAN           ',findmedian(list1))\n",
    "    print('LOWERQUARTILE     ', findlowerquartile(list1))\n",
    "    print('UPPERQUARTILE      ',findupperquartile(list1))\n",
    "    print('INTERQUARTILE RANGE    ',findinterquartilerange(list1))\n",
    "    print('STEP                    ',findstep(list1))\n",
    "    print('LOWER INNER FENCE         ',findlowerinnerfence(list1))\n",
    "    print('UPPER INNER FENCE          ',findupperinnerfence(list1))\n",
    "    print('LOWER OUTER FENCE           ',findlowerouterfence(list1))\n",
    "    print('UPPER OUTER FENCE            ',findupperouterfence(list1))\n",
    "    print('UPPER ADJACENT                ',findupperadjacent(list1))\n",
    "    print('LOWER ADJACENT                 ',findloweradjacent(list1))\n",
    "    noofoutliers(list1)\n",
    "    foroutvalues(list1)\n",
    "\n"
   ]
  },
  {
   "cell_type": "code",
   "execution_count": 22,
   "id": "b9bd6136",
   "metadata": {},
   "outputs": [
    {
     "name": "stdout",
     "output_type": "stream",
     "text": [
      "[49.71, 49.78, 50.11, 51.21, 51.49, 52.1, 52.12, 52.13, 52.67, 53.0, 53.08, 53.15, 53.24, 53.74, 53.76, 53.85, 54.29, 54.34, 54.37, 54.5, 54.58, 54.58, 54.7, 54.92, 55.07, 55.17, 55.36, 55.75, 56.13, 56.4, 56.5, 56.66, 56.92, 56.95, 57.01, 57.43, 57.43, 57.49, 57.6, 57.65, 57.7, 57.76, 57.78, 57.91, 58.3, 58.39, 59.27, 59.92, 59.99, 60.11, 60.29, 60.35, 61.01, 61.08, 61.22, 61.28, 61.53, 62.21, 64.37, 65.39, 65.42, 66.32, 71.48]\n"
     ]
    }
   ],
   "source": [
    "print(pricepoints)"
   ]
  },
  {
   "cell_type": "code",
   "execution_count": 23,
   "id": "7d2f2d68",
   "metadata": {},
   "outputs": [
    {
     "name": "stdout",
     "output_type": "stream",
     "text": [
      "MEAN              56.11142857142858\n",
      "MEDIAN            56.66\n",
      "LOWERQUARTILE      53.85\n",
      "UPPERQUARTILE       59.92\n",
      "INTERQUARTILE RANGE     6.07\n",
      "STEP                     9.105\n",
      "LOWER INNER FENCE          44.745000000000005\n",
      "UPPER INNER FENCE           69.025\n",
      "LOWER OUTER FENCE            35.64\n",
      "UPPER OUTER FENCE             78.13\n",
      "GREATER VAL [30.12, 30.13, 32.1, 39.71, 39.78, 40.11, 41.49, 42.67, 51.21, 53.0, 53.08, 53.15, 53.24, 53.74, 53.76, 53.85, 54.29, 54.34, 54.37, 54.5, 54.58, 54.58, 54.7, 54.92, 55.07, 55.17, 55.36, 55.75, 56.13, 56.4, 56.5, 56.66, 56.92, 56.95, 57.01, 57.43, 57.43, 57.49, 57.6, 57.65, 57.7, 57.76, 57.78, 57.91, 58.3, 58.39, 59.27, 59.92, 61.01, 61.08, 61.22, 61.28, 61.53, 62.21, 64.37, 65.39, 65.42, 66.32]\n",
      "UPPER ADJACENT                 66.32\n",
      "LOWER ADJACENT                  51.21\n",
      "\n",
      "NUMBER OF OUTLIERS 8\n",
      "NUMBER OF OUTLIERS BETWEEN UPPER INNERFENCE AND UPPER OUTER FENCE 3\n",
      "OUTLIERS BETWEEN UPPER INNERFENCE AND UPPER OUTER FENCE\n",
      "69.99\n",
      "70.11\n",
      "71.48\n",
      "NUMBER OF OUTLIERS BETWEEN LOWER OUTER AND LOWER INNER FENCE 5\n",
      "OUTLIERS BETWEEN LOWER INNERFENCE AND LOWER OUTER FENCE\n",
      "39.71\n",
      "39.78\n",
      "40.11\n",
      "41.49\n",
      "42.67\n",
      "VALUES ABOVE UPPER OUTER FENCE\n",
      "80.29\n",
      "83.35\n",
      "VALUES BELOW LOWER OUTER FENCE\n",
      "30.12\n",
      "30.13\n",
      "32.1\n"
     ]
    }
   ],
   "source": [
    "alldata(pricepoints2)\n"
   ]
  },
  {
   "cell_type": "code",
   "execution_count": null,
   "id": "eaccf5ae",
   "metadata": {},
   "outputs": [],
   "source": []
  }
 ],
 "metadata": {
  "kernelspec": {
   "display_name": "Python 3 (ipykernel)",
   "language": "python",
   "name": "python3"
  },
  "language_info": {
   "codemirror_mode": {
    "name": "ipython",
    "version": 3
   },
   "file_extension": ".py",
   "mimetype": "text/x-python",
   "name": "python",
   "nbconvert_exporter": "python",
   "pygments_lexer": "ipython3",
   "version": "3.9.13"
  }
 },
 "nbformat": 4,
 "nbformat_minor": 5
}
